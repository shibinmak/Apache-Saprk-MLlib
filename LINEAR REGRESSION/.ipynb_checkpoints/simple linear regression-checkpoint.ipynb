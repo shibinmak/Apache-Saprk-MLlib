{
 "cells": [
  {
   "cell_type": "code",
   "execution_count": 1,
   "metadata": {},
   "outputs": [],
   "source": [
    "from pyspark.sql import SparkSession"
   ]
  },
  {
   "cell_type": "code",
   "execution_count": 2,
   "metadata": {},
   "outputs": [],
   "source": [
    "spark =SparkSession.builder.appName('Linear Regression').getOrCreate()"
   ]
  },
  {
   "cell_type": "code",
   "execution_count": 3,
   "metadata": {},
   "outputs": [],
   "source": [
    "from pyspark.ml.regression import LinearRegression"
   ]
  },
  {
   "cell_type": "code",
   "execution_count": 4,
   "metadata": {},
   "outputs": [],
   "source": [
    "data = spark.read.csv('Ecommerce_Customers-Copy1.csv',inferSchema=True,header=True)"
   ]
  },
  {
   "cell_type": "code",
   "execution_count": 5,
   "metadata": {},
   "outputs": [
    {
     "data": {
      "text/plain": [
       "{'Email': 'mstephenson@fernandez.com',\n",
       " 'Address': '835 Frank TunnelWrightmouth, MI 82180-9605',\n",
       " 'Avatar': 'Violet',\n",
       " 'Avg Session Length': 34.49726772511229,\n",
       " 'Time on App': 12.65565114916675,\n",
       " 'Time on Website': 39.57766801952616,\n",
       " 'Length of Membership': 4.0826206329529615,\n",
       " 'Yearly Amount Spent': 587.9510539684005}"
      ]
     },
     "execution_count": 5,
     "metadata": {},
     "output_type": "execute_result"
    }
   ],
   "source": [
    "data.take(1)[0].asDict()"
   ]
  },
  {
   "cell_type": "code",
   "execution_count": 6,
   "metadata": {},
   "outputs": [
    {
     "name": "stdout",
     "output_type": "stream",
     "text": [
      "root\n",
      " |-- Email: string (nullable = true)\n",
      " |-- Address: string (nullable = true)\n",
      " |-- Avatar: string (nullable = true)\n",
      " |-- Avg Session Length: double (nullable = true)\n",
      " |-- Time on App: double (nullable = true)\n",
      " |-- Time on Website: double (nullable = true)\n",
      " |-- Length of Membership: double (nullable = true)\n",
      " |-- Yearly Amount Spent: double (nullable = true)\n",
      "\n"
     ]
    }
   ],
   "source": [
    "data.printSchema()"
   ]
  },
  {
   "cell_type": "code",
   "execution_count": 7,
   "metadata": {},
   "outputs": [
    {
     "name": "stdout",
     "output_type": "stream",
     "text": [
      "\u001b[H\u001b[2J"
     ]
    }
   ],
   "source": [
    "clear()"
   ]
  },
  {
   "cell_type": "code",
   "execution_count": 8,
   "metadata": {},
   "outputs": [
    {
     "name": "stdout",
     "output_type": "stream",
     "text": [
      "root\n",
      " |-- Email: string (nullable = true)\n",
      " |-- Address: string (nullable = true)\n",
      " |-- Avatar: string (nullable = true)\n",
      " |-- Avg Session Length: double (nullable = true)\n",
      " |-- Time on App: double (nullable = true)\n",
      " |-- Time on Website: double (nullable = true)\n",
      " |-- Length of Membership: double (nullable = true)\n",
      " |-- Yearly Amount Spent: double (nullable = true)\n",
      "\n"
     ]
    }
   ],
   "source": [
    "data.printSchema()"
   ]
  },
  {
   "cell_type": "code",
   "execution_count": 9,
   "metadata": {},
   "outputs": [],
   "source": [
    "from pyspark.ml.linalg import Vector\n",
    "from pyspark.ml.feature import VectorAssembler,StringIndexer"
   ]
  },
  {
   "cell_type": "code",
   "execution_count": 10,
   "metadata": {},
   "outputs": [
    {
     "data": {
      "text/plain": [
       "['Email',\n",
       " 'Address',\n",
       " 'Avatar',\n",
       " 'Avg Session Length',\n",
       " 'Time on App',\n",
       " 'Time on Website',\n",
       " 'Length of Membership',\n",
       " 'Yearly Amount Spent']"
      ]
     },
     "execution_count": 10,
     "metadata": {},
     "output_type": "execute_result"
    }
   ],
   "source": [
    "data.columns"
   ]
  },
  {
   "cell_type": "code",
   "execution_count": 11,
   "metadata": {},
   "outputs": [],
   "source": [
    "assembler = VectorAssembler(inputCols=['Avg Session Length',\n",
    " 'Time on App',\n",
    " 'Time on Website',\n",
    " 'Length of Membership'],outputCol='features')"
   ]
  },
  {
   "cell_type": "code",
   "execution_count": 12,
   "metadata": {},
   "outputs": [],
   "source": [
    "output = assembler.transform(data)"
   ]
  },
  {
   "cell_type": "code",
   "execution_count": 13,
   "metadata": {},
   "outputs": [
    {
     "data": {
      "text/plain": [
       "[Row(Email='mstephenson@fernandez.com', Address='835 Frank TunnelWrightmouth, MI 82180-9605', Avatar='Violet', Avg Session Length=34.49726772511229, Time on App=12.65565114916675, Time on Website=39.57766801952616, Length of Membership=4.0826206329529615, Yearly Amount Spent=587.9510539684005, features=DenseVector([34.4973, 12.6557, 39.5777, 4.0826]))]"
      ]
     },
     "execution_count": 13,
     "metadata": {},
     "output_type": "execute_result"
    }
   ],
   "source": [
    "output.take(1)"
   ]
  },
  {
   "cell_type": "code",
   "execution_count": 14,
   "metadata": {},
   "outputs": [],
   "source": [
    "final = output.select(['Yearly Amount Spent','features'])"
   ]
  },
  {
   "cell_type": "code",
   "execution_count": 15,
   "metadata": {},
   "outputs": [
    {
     "name": "stdout",
     "output_type": "stream",
     "text": [
      "+-------------------+--------------------+\n",
      "|Yearly Amount Spent|            features|\n",
      "+-------------------+--------------------+\n",
      "|  587.9510539684005|[34.4972677251122...|\n",
      "|  392.2049334443264|[31.9262720263601...|\n",
      "| 487.54750486747207|[33.0009147556426...|\n",
      "|  581.8523440352177|[34.3055566297555...|\n",
      "|  599.4060920457634|[33.3306725236463...|\n",
      "|   637.102447915074|[33.8710378793419...|\n",
      "|  521.5721747578274|[32.0215955013870...|\n",
      "|  549.9041461052942|[32.7391429383803...|\n",
      "|  570.2004089636196|[33.9877728956856...|\n",
      "|  427.1993848953282|[31.9365486184489...|\n",
      "|  492.6060127179966|[33.9925727749537...|\n",
      "|  522.3374046069357|[33.8793608248049...|\n",
      "|  408.6403510726275|[29.5324289670579...|\n",
      "|  573.4158673313865|[33.1903340437226...|\n",
      "|  470.4527333009554|[32.3879758531538...|\n",
      "|  461.7807421962299|[30.7377203726281...|\n",
      "| 457.84769594494855|[32.1253868972878...|\n",
      "| 407.70454754954415|[32.3388993230671...|\n",
      "|  452.3156754800354|[32.1878120459321...|\n",
      "|   605.061038804892|[32.6178560628234...|\n",
      "+-------------------+--------------------+\n",
      "only showing top 20 rows\n",
      "\n"
     ]
    }
   ],
   "source": [
    "final.show()"
   ]
  },
  {
   "cell_type": "code",
   "execution_count": 21,
   "metadata": {},
   "outputs": [],
   "source": [
    "train_data,test_data = output.randomSplit([0.7,0.3])"
   ]
  },
  {
   "cell_type": "code",
   "execution_count": 22,
   "metadata": {},
   "outputs": [],
   "source": [
    "regressor = LinearRegression(featuresCol='features',labelCol='Yearly Amount Spent',predictionCol='predicted YAS')"
   ]
  },
  {
   "cell_type": "code",
   "execution_count": 23,
   "metadata": {},
   "outputs": [],
   "source": [
    "model = regressor.fit(train_data)"
   ]
  },
  {
   "cell_type": "code",
   "execution_count": 24,
   "metadata": {},
   "outputs": [],
   "source": [
    "evaluation = model.evaluate(test_data)"
   ]
  },
  {
   "cell_type": "code",
   "execution_count": 26,
   "metadata": {},
   "outputs": [
    {
     "data": {
      "text/plain": [
       "10.389511365416872"
      ]
     },
     "execution_count": 26,
     "metadata": {},
     "output_type": "execute_result"
    }
   ],
   "source": [
    "evaluation.rootMeanSquaredError"
   ]
  },
  {
   "cell_type": "code",
   "execution_count": 27,
   "metadata": {},
   "outputs": [
    {
     "data": {
      "text/plain": [
       "0.9834206374411426"
      ]
     },
     "execution_count": 27,
     "metadata": {},
     "output_type": "execute_result"
    }
   ],
   "source": [
    "evaluation.r2"
   ]
  },
  {
   "cell_type": "code",
   "execution_count": 30,
   "metadata": {},
   "outputs": [],
   "source": [
    "prediction = model.transform(test_data.select('features'))"
   ]
  },
  {
   "cell_type": "code",
   "execution_count": 31,
   "metadata": {},
   "outputs": [
    {
     "name": "stdout",
     "output_type": "stream",
     "text": [
      "+--------------------+------------------+\n",
      "|            features|     predicted YAS|\n",
      "+--------------------+------------------+\n",
      "|[33.7051127975019...| 519.6453983945473|\n",
      "|[32.8487928288471...| 411.2233654507427|\n",
      "|[33.5030872567197...| 422.2219829462108|\n",
      "|[32.8369407670213...|255.27313397572448|\n",
      "|[32.8871046456153...| 683.9116949960389|\n",
      "|[31.9549038566348...| 432.0063989228629|\n",
      "|[34.1881840610182...| 584.1818539610333|\n",
      "|[32.0637746203136...| 390.5686666227307|\n",
      "|[32.0961089938451...| 375.7065626270446|\n",
      "|[32.9597643110742...| 461.3276341732701|\n",
      "|[32.6572685947781...| 520.1228895057668|\n",
      "|[33.8117334062172...| 531.4224568938998|\n",
      "|[32.0542618511847...| 557.3430031858884|\n",
      "|[33.3568743447574...| 549.4832016494186|\n",
      "|[33.4716005269517...| 522.2555677822008|\n",
      "|[34.3366772231470...|414.30871805191464|\n",
      "|[33.9140151173223...| 497.8545087719806|\n",
      "|[33.7081534080930...| 608.9544959084074|\n",
      "|[33.5873733902455...|  412.419325768049|\n",
      "|[32.1755012379493...| 576.8075380442797|\n",
      "+--------------------+------------------+\n",
      "only showing top 20 rows\n",
      "\n"
     ]
    }
   ],
   "source": [
    "prediction.show()"
   ]
  },
  {
   "cell_type": "code",
   "execution_count": null,
   "metadata": {},
   "outputs": [],
   "source": []
  }
 ],
 "metadata": {
  "kernelspec": {
   "display_name": "Python 3",
   "language": "python",
   "name": "python3"
  },
  "language_info": {
   "codemirror_mode": {
    "name": "ipython",
    "version": 3
   },
   "file_extension": ".py",
   "mimetype": "text/x-python",
   "name": "python",
   "nbconvert_exporter": "python",
   "pygments_lexer": "ipython3",
   "version": "3.6.5"
  }
 },
 "nbformat": 4,
 "nbformat_minor": 2
}
