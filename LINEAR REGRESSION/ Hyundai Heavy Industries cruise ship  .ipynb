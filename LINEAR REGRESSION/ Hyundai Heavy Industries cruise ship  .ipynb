{
 "cells": [
  {
   "cell_type": "code",
   "execution_count": 126,
   "metadata": {},
   "outputs": [],
   "source": [
    "from pyspark.sql import SparkSession"
   ]
  },
  {
   "cell_type": "code",
   "execution_count": 127,
   "metadata": {},
   "outputs": [],
   "source": [
    "from pyspark.ml.regression import LinearRegression"
   ]
  },
  {
   "cell_type": "code",
   "execution_count": 128,
   "metadata": {},
   "outputs": [],
   "source": [
    "from pyspark.ml.linalg import Vector"
   ]
  },
  {
   "cell_type": "code",
   "execution_count": 129,
   "metadata": {},
   "outputs": [],
   "source": [
    "from pyspark.ml.feature import VectorAssembler,StringIndexer,OneHotEncoder"
   ]
  },
  {
   "cell_type": "code",
   "execution_count": 130,
   "metadata": {},
   "outputs": [],
   "source": [
    "spark =SparkSession.builder.appName('Cruis ship project').getOrCreate()"
   ]
  },
  {
   "cell_type": "code",
   "execution_count": 131,
   "metadata": {},
   "outputs": [],
   "source": [
    "data = spark.read.csv('cruise_ship_info.csv',header=True,inferSchema=True)"
   ]
  },
  {
   "cell_type": "code",
   "execution_count": 132,
   "metadata": {},
   "outputs": [
    {
     "data": {
      "text/plain": [
       "{'Ship_name': 'Destiny',\n",
       " 'Cruise_line': 'Carnival',\n",
       " 'Age': 17,\n",
       " 'Tonnage': 101.353,\n",
       " 'passengers': 26.42,\n",
       " 'length': 8.92,\n",
       " 'cabins': 13.21,\n",
       " 'passenger_density': 38.36,\n",
       " 'crew': 10.0}"
      ]
     },
     "execution_count": 132,
     "metadata": {},
     "output_type": "execute_result"
    }
   ],
   "source": [
    "data.take(5)[4].asDict()"
   ]
  },
  {
   "cell_type": "code",
   "execution_count": 133,
   "metadata": {},
   "outputs": [
    {
     "name": "stdout",
     "output_type": "stream",
     "text": [
      "root\n",
      " |-- Ship_name: string (nullable = true)\n",
      " |-- Cruise_line: string (nullable = true)\n",
      " |-- Age: integer (nullable = true)\n",
      " |-- Tonnage: double (nullable = true)\n",
      " |-- passengers: double (nullable = true)\n",
      " |-- length: double (nullable = true)\n",
      " |-- cabins: double (nullable = true)\n",
      " |-- passenger_density: double (nullable = true)\n",
      " |-- crew: double (nullable = true)\n",
      "\n"
     ]
    }
   ],
   "source": [
    "data.printSchema()"
   ]
  },
  {
   "cell_type": "code",
   "execution_count": 134,
   "metadata": {},
   "outputs": [
    {
     "name": "stdout",
     "output_type": "stream",
     "text": [
      "+-----------------+-----+\n",
      "|      Cruise_line|count|\n",
      "+-----------------+-----+\n",
      "|            Costa|   11|\n",
      "|              P&O|    6|\n",
      "|           Cunard|    3|\n",
      "|Regent_Seven_Seas|    5|\n",
      "|              MSC|    8|\n",
      "|         Carnival|   22|\n",
      "|          Crystal|    2|\n",
      "|           Orient|    1|\n",
      "|         Princess|   17|\n",
      "|        Silversea|    4|\n",
      "|         Seabourn|    3|\n",
      "| Holland_American|   14|\n",
      "|         Windstar|    3|\n",
      "|           Disney|    2|\n",
      "|        Norwegian|   13|\n",
      "|          Oceania|    3|\n",
      "|          Azamara|    2|\n",
      "|        Celebrity|   10|\n",
      "|             Star|    6|\n",
      "|  Royal_Caribbean|   23|\n",
      "+-----------------+-----+\n",
      "\n"
     ]
    }
   ],
   "source": [
    "data.groupBy('Cruise_line').count().show()"
   ]
  },
  {
   "cell_type": "code",
   "execution_count": 135,
   "metadata": {},
   "outputs": [],
   "source": [
    "indexer =StringIndexer(inputCol='Cruise_line',outputCol='Cruiseline_cat')"
   ]
  },
  {
   "cell_type": "code",
   "execution_count": 136,
   "metadata": {},
   "outputs": [],
   "source": [
    "indexed= indexer.fit(data).transform(data)"
   ]
  },
  {
   "cell_type": "code",
   "execution_count": 137,
   "metadata": {},
   "outputs": [
    {
     "name": "stdout",
     "output_type": "stream",
     "text": [
      "+-----------+-----------+---+------------------+----------+------+------+-----------------+----+--------------+\n",
      "|  Ship_name|Cruise_line|Age|           Tonnage|passengers|length|cabins|passenger_density|crew|Cruiseline_cat|\n",
      "+-----------+-----------+---+------------------+----------+------+------+-----------------+----+--------------+\n",
      "|    Journey|    Azamara|  6|30.276999999999997|      6.94|  5.94|  3.55|            42.64|3.55|          16.0|\n",
      "|      Quest|    Azamara|  6|30.276999999999997|      6.94|  5.94|  3.55|            42.64|3.55|          16.0|\n",
      "|Celebration|   Carnival| 26|            47.262|     14.86|  7.22|  7.43|             31.8| 6.7|           1.0|\n",
      "|   Conquest|   Carnival| 11|             110.0|     29.74|  9.53| 14.88|            36.99|19.1|           1.0|\n",
      "|    Destiny|   Carnival| 17|           101.353|     26.42|  8.92| 13.21|            38.36|10.0|           1.0|\n",
      "|    Ecstasy|   Carnival| 22|            70.367|     20.52|  8.55|  10.2|            34.29| 9.2|           1.0|\n",
      "|    Elation|   Carnival| 15|            70.367|     20.52|  8.55|  10.2|            34.29| 9.2|           1.0|\n",
      "|    Fantasy|   Carnival| 23|            70.367|     20.56|  8.55| 10.22|            34.23| 9.2|           1.0|\n",
      "|Fascination|   Carnival| 19|            70.367|     20.52|  8.55|  10.2|            34.29| 9.2|           1.0|\n",
      "|    Freedom|   Carnival|  6|110.23899999999999|      37.0|  9.51| 14.87|            29.79|11.5|           1.0|\n",
      "+-----------+-----------+---+------------------+----------+------+------+-----------------+----+--------------+\n",
      "only showing top 10 rows\n",
      "\n"
     ]
    }
   ],
   "source": [
    "indexed.show(10)"
   ]
  },
  {
   "cell_type": "code",
   "execution_count": 138,
   "metadata": {},
   "outputs": [],
   "source": [
    "#encoder = OneHotEncoder(dropLast=True,inputCol='Cruiseline_cat',outputCol='CL_CAT')"
   ]
  },
  {
   "cell_type": "code",
   "execution_count": 139,
   "metadata": {},
   "outputs": [],
   "source": [
    "#encoded = encoder.transform(indexed)"
   ]
  },
  {
   "cell_type": "code",
   "execution_count": 140,
   "metadata": {},
   "outputs": [],
   "source": [
    "#encoded.columns"
   ]
  },
  {
   "cell_type": "code",
   "execution_count": 141,
   "metadata": {},
   "outputs": [],
   "source": [
    "assembler = VectorAssembler(inputCols=['Age','Tonnage',\n",
    " 'passengers',\n",
    " 'length',\n",
    " 'cabins',\n",
    " 'passenger_density',\n",
    " 'Cruiseline_cat'],outputCol='features')\n",
    "featcols=['Age','Tonnage',\n",
    " 'passengers',\n",
    " 'length',\n",
    " 'cabins',\n",
    " 'passenger_density',\n",
    " 'Cruiseline_cat']"
   ]
  },
  {
   "cell_type": "code",
   "execution_count": 142,
   "metadata": {},
   "outputs": [],
   "source": [
    "output = assembler.transform(indexed)"
   ]
  },
  {
   "cell_type": "code",
   "execution_count": 143,
   "metadata": {},
   "outputs": [
    {
     "data": {
      "text/plain": [
       "Row(Ship_name='Freedom', Cruise_line='Carnival', Age=6, Tonnage=110.23899999999999, passengers=37.0, length=9.51, cabins=14.87, passenger_density=29.79, crew=11.5, Cruiseline_cat=1.0, features=DenseVector([6.0, 110.239, 37.0, 9.51, 14.87, 29.79, 1.0]))"
      ]
     },
     "execution_count": 143,
     "metadata": {},
     "output_type": "execute_result"
    }
   ],
   "source": [
    "output.take(10)[9]"
   ]
  },
  {
   "cell_type": "code",
   "execution_count": 144,
   "metadata": {},
   "outputs": [],
   "source": [
    "final = output.select(['crew','features'])"
   ]
  },
  {
   "cell_type": "code",
   "execution_count": 145,
   "metadata": {},
   "outputs": [
    {
     "name": "stdout",
     "output_type": "stream",
     "text": [
      "+----+--------------------+\n",
      "|crew|            features|\n",
      "+----+--------------------+\n",
      "|3.55|[6.0,30.276999999...|\n",
      "|3.55|[6.0,30.276999999...|\n",
      "| 6.7|[26.0,47.262,14.8...|\n",
      "|19.1|[11.0,110.0,29.74...|\n",
      "|10.0|[17.0,101.353,26....|\n",
      "| 9.2|[22.0,70.367,20.5...|\n",
      "| 9.2|[15.0,70.367,20.5...|\n",
      "| 9.2|[23.0,70.367,20.5...|\n",
      "| 9.2|[19.0,70.367,20.5...|\n",
      "|11.5|[6.0,110.23899999...|\n",
      "|11.6|[10.0,110.0,29.74...|\n",
      "| 6.6|[28.0,46.052,14.5...|\n",
      "| 9.2|[18.0,70.367,20.5...|\n",
      "| 9.2|[17.0,70.367,20.5...|\n",
      "| 9.3|[11.0,86.0,21.24,...|\n",
      "|11.6|[8.0,110.0,29.74,...|\n",
      "|10.3|[9.0,88.5,21.24,9...|\n",
      "| 9.2|[15.0,70.367,20.5...|\n",
      "| 9.3|[12.0,88.5,21.24,...|\n",
      "| 9.2|[20.0,70.367,20.5...|\n",
      "+----+--------------------+\n",
      "only showing top 20 rows\n",
      "\n"
     ]
    }
   ],
   "source": [
    "final.show()"
   ]
  },
  {
   "cell_type": "code",
   "execution_count": 146,
   "metadata": {},
   "outputs": [],
   "source": [
    "train_data,test_data = final.randomSplit([0.7,0.3])"
   ]
  },
  {
   "cell_type": "code",
   "execution_count": 147,
   "metadata": {},
   "outputs": [],
   "source": [
    "regressor = LinearRegression(featuresCol='features',labelCol='crew',predictionCol='predicted crews')"
   ]
  },
  {
   "cell_type": "code",
   "execution_count": 148,
   "metadata": {},
   "outputs": [],
   "source": [
    "model = regressor.fit(train_data)"
   ]
  },
  {
   "cell_type": "code",
   "execution_count": 149,
   "metadata": {},
   "outputs": [],
   "source": [
    "eval_model = model.evaluate(test_data)"
   ]
  },
  {
   "cell_type": "code",
   "execution_count": 150,
   "metadata": {},
   "outputs": [],
   "source": [
    "prediction = model.transform(test_data.select('features'))"
   ]
  },
  {
   "cell_type": "code",
   "execution_count": 151,
   "metadata": {},
   "outputs": [
    {
     "name": "stdout",
     "output_type": "stream",
     "text": [
      "+--------------------+------------------+\n",
      "|            features|   predicted crews|\n",
      "+--------------------+------------------+\n",
      "|[25.0,5.35,1.58,4...| 1.512875655776002|\n",
      "|[24.0,10.0,2.08,4...|1.6431300910794218|\n",
      "|[13.0,25.0,3.82,5...|2.9725823074259043|\n",
      "|[36.0,16.852,9.52...|  3.01058701272943|\n",
      "|[40.0,28.0,11.5,6...|3.1805870591880874|\n",
      "|[23.0,25.0,7.76,6...| 3.807834707551601|\n",
      "|[13.0,30.27699999...| 4.014367633216378|\n",
      "|[15.0,30.27699999...|3.9683750641340767|\n",
      "|[21.0,28.43,8.08,...| 4.006523459034641|\n",
      "|[21.0,38.0,10.56,...| 4.505215746416018|\n",
      "|[12.0,50.0,7.0,7....|  4.47659414358952|\n",
      "|[25.0,38.0,7.49,6...|3.9962083105254624|\n",
      "|[31.0,35.143,12.5...| 4.586586719906049|\n",
      "|[18.0,51.004,9.4,...| 5.884923665381264|\n",
      "|[27.0,53.872,14.9...| 6.626865370024243|\n",
      "|[20.0,50.76,17.48...|  7.43101407482933|\n",
      "|[10.0,68.0,10.8,7...|   6.5941808777881|\n",
      "|[16.0,59.652,13.2...| 6.278780234372106|\n",
      "|[15.0,78.491,24.3...| 8.226977179947792|\n",
      "|[12.0,42.0,14.8,7...|6.8098314759568765|\n",
      "+--------------------+------------------+\n",
      "only showing top 20 rows\n",
      "\n"
     ]
    }
   ],
   "source": [
    "prediction.show()"
   ]
  },
  {
   "cell_type": "code",
   "execution_count": 152,
   "metadata": {},
   "outputs": [
    {
     "data": {
      "text/plain": [
       "0.9401269278319621"
      ]
     },
     "execution_count": 152,
     "metadata": {},
     "output_type": "execute_result"
    }
   ],
   "source": [
    "eval_model.rootMeanSquaredError"
   ]
  },
  {
   "cell_type": "code",
   "execution_count": 153,
   "metadata": {},
   "outputs": [
    {
     "data": {
      "text/plain": [
       "0.9155232635112203"
      ]
     },
     "execution_count": 153,
     "metadata": {},
     "output_type": "execute_result"
    }
   ],
   "source": [
    "eval_model.r2"
   ]
  },
  {
   "cell_type": "code",
   "execution_count": 154,
   "metadata": {},
   "outputs": [],
   "source": [
    "from pyspark.sql.functions import corr"
   ]
  },
  {
   "cell_type": "code",
   "execution_count": 155,
   "metadata": {},
   "outputs": [
    {
     "name": "stdout",
     "output_type": "stream",
     "text": [
      "+----------------------+\n",
      "|corr(crew, passengers)|\n",
      "+----------------------+\n",
      "|    0.9152341306065384|\n",
      "+----------------------+\n",
      "\n"
     ]
    }
   ],
   "source": [
    "data.select(corr('crew','passengers')).show()"
   ]
  },
  {
   "cell_type": "code",
   "execution_count": 156,
   "metadata": {},
   "outputs": [],
   "source": [
    "coeff=model.coefficients"
   ]
  },
  {
   "cell_type": "code",
   "execution_count": 157,
   "metadata": {},
   "outputs": [],
   "source": [
    "a= zip(featcols,coeff)"
   ]
  },
  {
   "cell_type": "code",
   "execution_count": 158,
   "metadata": {},
   "outputs": [],
   "source": [
    "b= set(a)"
   ]
  },
  {
   "cell_type": "code",
   "execution_count": 159,
   "metadata": {},
   "outputs": [
    {
     "name": "stdout",
     "output_type": "stream",
     "text": [
      "passenger_density : -0.004629238626027429\n",
      "\n",
      "\n",
      "Age : -0.022996284541150457\n",
      "\n",
      "\n",
      "Cruiseline_cat : 0.051566646504548584\n",
      "\n",
      "\n",
      "passengers : -0.15272123250400957\n",
      "\n",
      "\n",
      "cabins : 0.8981671804572302\n",
      "\n",
      "\n",
      "Tonnage : 0.006787748955648134\n",
      "\n",
      "\n",
      "length : 0.392104778438069\n",
      "\n",
      "\n"
     ]
    }
   ],
   "source": [
    "for x,y in b:\n",
    "    print(x ,':' ,y)\n",
    "    print('\\n')"
   ]
  },
  {
   "cell_type": "code",
   "execution_count": 160,
   "metadata": {},
   "outputs": [
    {
     "name": "stdout",
     "output_type": "stream",
     "text": [
      "+------------------+\n",
      "|corr(crew, length)|\n",
      "+------------------+\n",
      "|0.8958566271016579|\n",
      "+------------------+\n",
      "\n"
     ]
    }
   ],
   "source": [
    "data.select(corr('crew','length')).show()"
   ]
  },
  {
   "cell_type": "code",
   "execution_count": 161,
   "metadata": {},
   "outputs": [
    {
     "name": "stdout",
     "output_type": "stream",
     "text": [
      "+----------------------+\n",
      "|corr(crew, passengers)|\n",
      "+----------------------+\n",
      "|    0.9152341306065384|\n",
      "+----------------------+\n",
      "\n"
     ]
    }
   ],
   "source": [
    "data.select(corr('crew','passengers')).show()"
   ]
  },
  {
   "cell_type": "code",
   "execution_count": null,
   "metadata": {},
   "outputs": [],
   "source": [
    "\n",
    "    \n",
    "    "
   ]
  }
 ],
 "metadata": {
  "kernelspec": {
   "display_name": "Python 3",
   "language": "python",
   "name": "python3"
  },
  "language_info": {
   "codemirror_mode": {
    "name": "ipython",
    "version": 3
   },
   "file_extension": ".py",
   "mimetype": "text/x-python",
   "name": "python",
   "nbconvert_exporter": "python",
   "pygments_lexer": "ipython3",
   "version": "3.6.5"
  }
 },
 "nbformat": 4,
 "nbformat_minor": 2
}
